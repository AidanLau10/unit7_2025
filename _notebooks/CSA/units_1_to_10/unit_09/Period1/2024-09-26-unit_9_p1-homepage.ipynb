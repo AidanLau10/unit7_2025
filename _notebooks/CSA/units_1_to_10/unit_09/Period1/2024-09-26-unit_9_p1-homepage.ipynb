{
 "cells": [
  {
   "cell_type": "raw",
   "metadata": {
    "vscode": {
     "languageId": "raw"
    }
   },
   "source": [
    "---\n",
    "layout: post\n",
    "toc: true\n",
    "title: Unit 9 Inheritance P1 \n",
    "description: Inheritence Home Page\n",
    "authors: Aidan Lau, Saathvik Gampa, Sri Surapaneni, Tanav Kambhampati\n",
    "categories: [AP CSA]\n",
    "courses: {'csa': {'week': 9}}\n",
    "type: ccc\n",
    "permalink: /csa/unit7-p1/unit9-homepage\n",
    "menu: nav/CSA_Units/csa_unit9_p1.html\n",
    "---"
   ]
  },
  {
   "cell_type": "markdown",
   "metadata": {},
   "source": [
    "## AP Computer Science A - Unit 9 Home Page\n",
    "\n",
    "### Main Idea \n",
    "> ** ArrayLists: ArrayLists are used to store data and algorithms can be used to access, traverse, and sort through this data.**\n",
    "\n",
    "### Why ArrayLists? \n",
    "> Because ArrayLists dont have a fixed size like Arrays and we can add and remove items from them, they are more verstaile and have more functions\n",
    "\n",
    "### AP Exam Details\n",
    "- 2.5-7.5% of the test\n",
    "- 1 to 2 mc questions\n",
    "- Might be on an FRQ(making ArrayLists and ArrayList algorithms)\n",
    "\n",
    "### Key Topics:\n",
    "9.1 Creating Superclasses and Subclasses\n",
    "9.2 Writing Constructors for Subclasses\n",
    "9.3 Overriding Methods\n",
    "9.4 super Keyword\n",
    "9.5 Creating References Using Inheritance Hierarchies\n",
    "9.6 Polymorphism\n",
    "9.7 Object Superclass"
   ]
  }
 ],
 "metadata": {
  "language_info": {
   "name": "python"
  }
 },
 "nbformat": 4,
 "nbformat_minor": 2
}
