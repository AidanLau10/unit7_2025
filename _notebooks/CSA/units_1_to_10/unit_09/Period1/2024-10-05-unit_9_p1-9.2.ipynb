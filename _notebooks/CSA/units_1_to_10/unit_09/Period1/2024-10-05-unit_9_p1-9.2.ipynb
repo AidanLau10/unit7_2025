{
 "cells": [
  {
   "cell_type": "markdown",
   "metadata": {
    "vscode": {
     "languageId": "raw"
    }
   },
   "source": [
    "---\n",
    "layout: post\n",
    "toc: true\n",
    "title: Writing Constructors for Subclasses\n",
    "authors: Aidan Lau, Saathvik Gampa, Sri Surapaneni, Tanav Kambhampati\n",
    "categories: [AP CSA]\n",
    "type: ccc\n",
    "permalink: /csa/unit9-p1/unit9-2\n",
    "menu: nav/CSA_Units/csa_unit9_p1.html\n",
    "---"
   ]
  }
 ],
 "metadata": {
  "language_info": {
   "name": "python"
  }
 },
 "nbformat": 4,
 "nbformat_minor": 2
}
